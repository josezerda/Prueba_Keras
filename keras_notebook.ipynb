{
 "cells": [
  {
   "cell_type": "code",
   "execution_count": 1,
   "metadata": {},
   "outputs": [],
   "source": [
    "import numpy as np\n",
    "from tensorflow.keras.models import Sequential\n",
    "from tensorflow.keras.layers import Dense\n",
    "from tensorflow.keras.optimizers import Adam \n",
    "from matplotlib import pyplot as plt\n",
    "\n"
   ]
  },
  {
   "cell_type": "code",
   "execution_count": 2,
   "metadata": {},
   "outputs": [],
   "source": [
    "def generate_gaussians_distributions(sep=1, N=500, random_state=42, normalize=True):\n",
    "    np.random.seed(random_state)\n",
    "    # Zeros\n",
    "    X1 = np.random.multivariate_normal(sep*np.array([0.5, 0.5]), [[0.1,-0.085],[-0.085,0.1]], N//2)\n",
    "    # Ones\n",
    "    X2 = np.random.multivariate_normal([-0.25, -0.25], [[0.1,0],[0,0.1]], N//2)\n",
    "    X = np.append(X1, X2, axis=0)\n",
    "    y = np.append(np.zeros(N//2), np.ones(N//2))\n",
    "    indexes = np.arange(len(y))\n",
    "    np.random.shuffle(indexes)\n",
    "    if normalize:\n",
    "        X = (X - X.mean(axis=0))/X.std(axis=0)\n",
    "    else:\n",
    "        X[:, 0] = X[:, 0]\n",
    "        X[:, 1] = X[:, 1]\n",
    "    return X[indexes], y[indexes]"
   ]
  },
  {
   "cell_type": "code",
   "execution_count": 3,
   "metadata": {},
   "outputs": [],
   "source": [
    "X, y = generate_gaussians_distributions(sep=0.5, N = 500, normalize=False, random_state=41)\n",
    "X_test, y_test = generate_gaussians_distributions(sep=0.5, N = 500, normalize=False, random_state=42)"
   ]
  },
  {
   "cell_type": "code",
   "execution_count": 4,
   "metadata": {},
   "outputs": [],
   "source": [
    "model = Sequential()"
   ]
  },
  {
   "cell_type": "code",
   "execution_count": 5,
   "metadata": {},
   "outputs": [],
   "source": [
    "model.add(Dense(1, input_shape=(2,),activation='sigmoid'))"
   ]
  },
  {
   "cell_type": "code",
   "execution_count": 6,
   "metadata": {},
   "outputs": [],
   "source": [
    "optimizer = Adam(learning_rate=0.1)"
   ]
  },
  {
   "cell_type": "code",
   "execution_count": 7,
   "metadata": {},
   "outputs": [],
   "source": [
    "model.compile(optimizer='Adam', loss='binary_crossentropy', metrics=['accuracy'])"
   ]
  },
  {
   "cell_type": "code",
   "execution_count": 8,
   "metadata": {},
   "outputs": [
    {
     "name": "stdout",
     "output_type": "stream",
     "text": [
      "Model: \"sequential\"\n",
      "_________________________________________________________________\n",
      " Layer (type)                Output Shape              Param #   \n",
      "=================================================================\n",
      " dense (Dense)               (None, 1)                 3         \n",
      "                                                                 \n",
      "=================================================================\n",
      "Total params: 3 (12.00 Byte)\n",
      "Trainable params: 3 (12.00 Byte)\n",
      "Non-trainable params: 0 (0.00 Byte)\n",
      "_________________________________________________________________\n"
     ]
    }
   ],
   "source": [
    "model.summary()"
   ]
  },
  {
   "cell_type": "code",
   "execution_count": 9,
   "metadata": {},
   "outputs": [
    {
     "name": "stdout",
     "output_type": "stream",
     "text": [
      "Epoch 1/100\n",
      "8/8 [==============================] - 1s 26ms/step - loss: 0.7922 - accuracy: 0.2480 - val_loss: 0.7843 - val_accuracy: 0.2880\n",
      "Epoch 2/100\n",
      "8/8 [==============================] - 0s 6ms/step - loss: 0.7899 - accuracy: 0.2560 - val_loss: 0.7821 - val_accuracy: 0.2940\n",
      "Epoch 3/100\n",
      "8/8 [==============================] - 0s 6ms/step - loss: 0.7876 - accuracy: 0.2620 - val_loss: 0.7799 - val_accuracy: 0.2960\n",
      "Epoch 4/100\n",
      "8/8 [==============================] - 0s 6ms/step - loss: 0.7854 - accuracy: 0.2640 - val_loss: 0.7778 - val_accuracy: 0.2980\n",
      "Epoch 5/100\n",
      "8/8 [==============================] - 0s 7ms/step - loss: 0.7832 - accuracy: 0.2660 - val_loss: 0.7757 - val_accuracy: 0.2980\n",
      "Epoch 6/100\n",
      "8/8 [==============================] - 0s 7ms/step - loss: 0.7810 - accuracy: 0.2700 - val_loss: 0.7735 - val_accuracy: 0.3060\n",
      "Epoch 7/100\n",
      "8/8 [==============================] - 0s 8ms/step - loss: 0.7789 - accuracy: 0.2760 - val_loss: 0.7714 - val_accuracy: 0.3100\n",
      "Epoch 8/100\n",
      "8/8 [==============================] - 0s 6ms/step - loss: 0.7767 - accuracy: 0.2820 - val_loss: 0.7693 - val_accuracy: 0.3140\n",
      "Epoch 9/100\n",
      "8/8 [==============================] - 0s 6ms/step - loss: 0.7745 - accuracy: 0.2860 - val_loss: 0.7672 - val_accuracy: 0.3160\n",
      "Epoch 10/100\n",
      "8/8 [==============================] - 0s 6ms/step - loss: 0.7723 - accuracy: 0.2840 - val_loss: 0.7651 - val_accuracy: 0.3200\n",
      "Epoch 11/100\n",
      "8/8 [==============================] - 0s 6ms/step - loss: 0.7702 - accuracy: 0.2900 - val_loss: 0.7630 - val_accuracy: 0.3200\n",
      "Epoch 12/100\n",
      "8/8 [==============================] - 0s 6ms/step - loss: 0.7680 - accuracy: 0.2960 - val_loss: 0.7609 - val_accuracy: 0.3260\n",
      "Epoch 13/100\n",
      "8/8 [==============================] - 0s 6ms/step - loss: 0.7659 - accuracy: 0.2980 - val_loss: 0.7588 - val_accuracy: 0.3300\n",
      "Epoch 14/100\n",
      "8/8 [==============================] - 0s 6ms/step - loss: 0.7638 - accuracy: 0.3000 - val_loss: 0.7568 - val_accuracy: 0.3360\n",
      "Epoch 15/100\n",
      "8/8 [==============================] - 0s 9ms/step - loss: 0.7617 - accuracy: 0.3060 - val_loss: 0.7547 - val_accuracy: 0.3360\n",
      "Epoch 16/100\n",
      "8/8 [==============================] - 0s 6ms/step - loss: 0.7595 - accuracy: 0.3100 - val_loss: 0.7526 - val_accuracy: 0.3400\n",
      "Epoch 17/100\n",
      "8/8 [==============================] - 0s 6ms/step - loss: 0.7574 - accuracy: 0.3140 - val_loss: 0.7506 - val_accuracy: 0.3440\n",
      "Epoch 18/100\n",
      "8/8 [==============================] - 0s 6ms/step - loss: 0.7553 - accuracy: 0.3200 - val_loss: 0.7485 - val_accuracy: 0.3460\n",
      "Epoch 19/100\n",
      "8/8 [==============================] - 0s 6ms/step - loss: 0.7533 - accuracy: 0.3300 - val_loss: 0.7465 - val_accuracy: 0.3480\n",
      "Epoch 20/100\n",
      "8/8 [==============================] - 0s 6ms/step - loss: 0.7512 - accuracy: 0.3340 - val_loss: 0.7445 - val_accuracy: 0.3560\n",
      "Epoch 21/100\n",
      "8/8 [==============================] - 0s 6ms/step - loss: 0.7491 - accuracy: 0.3460 - val_loss: 0.7425 - val_accuracy: 0.3580\n",
      "Epoch 22/100\n",
      "8/8 [==============================] - 0s 7ms/step - loss: 0.7470 - accuracy: 0.3500 - val_loss: 0.7404 - val_accuracy: 0.3640\n",
      "Epoch 23/100\n",
      "8/8 [==============================] - 0s 6ms/step - loss: 0.7450 - accuracy: 0.3540 - val_loss: 0.7384 - val_accuracy: 0.3700\n",
      "Epoch 24/100\n",
      "8/8 [==============================] - 0s 7ms/step - loss: 0.7429 - accuracy: 0.3600 - val_loss: 0.7365 - val_accuracy: 0.3800\n",
      "Epoch 25/100\n",
      "8/8 [==============================] - 0s 6ms/step - loss: 0.7409 - accuracy: 0.3620 - val_loss: 0.7345 - val_accuracy: 0.3840\n",
      "Epoch 26/100\n",
      "8/8 [==============================] - 0s 6ms/step - loss: 0.7389 - accuracy: 0.3720 - val_loss: 0.7325 - val_accuracy: 0.3920\n",
      "Epoch 27/100\n",
      "8/8 [==============================] - 0s 7ms/step - loss: 0.7368 - accuracy: 0.3800 - val_loss: 0.7305 - val_accuracy: 0.3920\n",
      "Epoch 28/100\n",
      "8/8 [==============================] - 0s 7ms/step - loss: 0.7348 - accuracy: 0.3860 - val_loss: 0.7285 - val_accuracy: 0.3920\n",
      "Epoch 29/100\n",
      "8/8 [==============================] - 0s 6ms/step - loss: 0.7328 - accuracy: 0.3900 - val_loss: 0.7266 - val_accuracy: 0.3960\n",
      "Epoch 30/100\n",
      "8/8 [==============================] - 0s 7ms/step - loss: 0.7308 - accuracy: 0.3940 - val_loss: 0.7246 - val_accuracy: 0.4020\n",
      "Epoch 31/100\n",
      "8/8 [==============================] - 0s 7ms/step - loss: 0.7288 - accuracy: 0.4040 - val_loss: 0.7227 - val_accuracy: 0.4080\n",
      "Epoch 32/100\n",
      "8/8 [==============================] - 0s 7ms/step - loss: 0.7268 - accuracy: 0.4140 - val_loss: 0.7207 - val_accuracy: 0.4120\n",
      "Epoch 33/100\n",
      "8/8 [==============================] - 0s 7ms/step - loss: 0.7249 - accuracy: 0.4160 - val_loss: 0.7188 - val_accuracy: 0.4200\n",
      "Epoch 34/100\n",
      "8/8 [==============================] - 0s 7ms/step - loss: 0.7229 - accuracy: 0.4160 - val_loss: 0.7169 - val_accuracy: 0.4260\n",
      "Epoch 35/100\n",
      "8/8 [==============================] - 0s 7ms/step - loss: 0.7209 - accuracy: 0.4260 - val_loss: 0.7150 - val_accuracy: 0.4300\n",
      "Epoch 36/100\n",
      "8/8 [==============================] - 0s 7ms/step - loss: 0.7190 - accuracy: 0.4360 - val_loss: 0.7131 - val_accuracy: 0.4360\n",
      "Epoch 37/100\n",
      "8/8 [==============================] - 0s 7ms/step - loss: 0.7170 - accuracy: 0.4400 - val_loss: 0.7112 - val_accuracy: 0.4460\n",
      "Epoch 38/100\n",
      "8/8 [==============================] - 0s 7ms/step - loss: 0.7151 - accuracy: 0.4520 - val_loss: 0.7093 - val_accuracy: 0.4500\n",
      "Epoch 39/100\n",
      "8/8 [==============================] - 0s 7ms/step - loss: 0.7131 - accuracy: 0.4540 - val_loss: 0.7074 - val_accuracy: 0.4640\n",
      "Epoch 40/100\n",
      "8/8 [==============================] - 0s 7ms/step - loss: 0.7112 - accuracy: 0.4600 - val_loss: 0.7055 - val_accuracy: 0.4700\n",
      "Epoch 41/100\n",
      "8/8 [==============================] - 0s 7ms/step - loss: 0.7093 - accuracy: 0.4700 - val_loss: 0.7037 - val_accuracy: 0.4780\n",
      "Epoch 42/100\n",
      "8/8 [==============================] - 0s 8ms/step - loss: 0.7074 - accuracy: 0.4760 - val_loss: 0.7018 - val_accuracy: 0.4820\n",
      "Epoch 43/100\n",
      "8/8 [==============================] - 0s 7ms/step - loss: 0.7055 - accuracy: 0.4860 - val_loss: 0.6999 - val_accuracy: 0.4920\n",
      "Epoch 44/100\n",
      "8/8 [==============================] - 0s 7ms/step - loss: 0.7036 - accuracy: 0.4880 - val_loss: 0.6981 - val_accuracy: 0.4960\n",
      "Epoch 45/100\n",
      "8/8 [==============================] - 0s 7ms/step - loss: 0.7017 - accuracy: 0.4960 - val_loss: 0.6962 - val_accuracy: 0.4980\n",
      "Epoch 46/100\n",
      "8/8 [==============================] - 0s 6ms/step - loss: 0.6998 - accuracy: 0.5000 - val_loss: 0.6944 - val_accuracy: 0.5020\n",
      "Epoch 47/100\n",
      "8/8 [==============================] - 0s 7ms/step - loss: 0.6980 - accuracy: 0.5060 - val_loss: 0.6926 - val_accuracy: 0.5140\n",
      "Epoch 48/100\n",
      "8/8 [==============================] - 0s 7ms/step - loss: 0.6961 - accuracy: 0.5120 - val_loss: 0.6907 - val_accuracy: 0.5240\n",
      "Epoch 49/100\n",
      "8/8 [==============================] - 0s 7ms/step - loss: 0.6942 - accuracy: 0.5160 - val_loss: 0.6889 - val_accuracy: 0.5420\n",
      "Epoch 50/100\n",
      "8/8 [==============================] - 0s 7ms/step - loss: 0.6924 - accuracy: 0.5200 - val_loss: 0.6871 - val_accuracy: 0.5460\n",
      "Epoch 51/100\n",
      "8/8 [==============================] - 0s 8ms/step - loss: 0.6906 - accuracy: 0.5260 - val_loss: 0.6853 - val_accuracy: 0.5460\n",
      "Epoch 52/100\n",
      "8/8 [==============================] - 0s 7ms/step - loss: 0.6887 - accuracy: 0.5320 - val_loss: 0.6836 - val_accuracy: 0.5580\n",
      "Epoch 53/100\n",
      "8/8 [==============================] - 0s 7ms/step - loss: 0.6869 - accuracy: 0.5400 - val_loss: 0.6818 - val_accuracy: 0.5660\n",
      "Epoch 54/100\n",
      "8/8 [==============================] - 0s 8ms/step - loss: 0.6851 - accuracy: 0.5440 - val_loss: 0.6800 - val_accuracy: 0.5740\n",
      "Epoch 55/100\n",
      "8/8 [==============================] - 0s 7ms/step - loss: 0.6833 - accuracy: 0.5500 - val_loss: 0.6782 - val_accuracy: 0.5820\n",
      "Epoch 56/100\n",
      "8/8 [==============================] - 0s 7ms/step - loss: 0.6815 - accuracy: 0.5600 - val_loss: 0.6765 - val_accuracy: 0.5880\n",
      "Epoch 57/100\n",
      "8/8 [==============================] - 0s 10ms/step - loss: 0.6797 - accuracy: 0.5660 - val_loss: 0.6747 - val_accuracy: 0.5960\n",
      "Epoch 58/100\n",
      "8/8 [==============================] - 0s 7ms/step - loss: 0.6779 - accuracy: 0.5780 - val_loss: 0.6730 - val_accuracy: 0.6080\n",
      "Epoch 59/100\n",
      "8/8 [==============================] - 0s 7ms/step - loss: 0.6761 - accuracy: 0.5760 - val_loss: 0.6712 - val_accuracy: 0.6140\n",
      "Epoch 60/100\n",
      "8/8 [==============================] - 0s 8ms/step - loss: 0.6743 - accuracy: 0.5800 - val_loss: 0.6695 - val_accuracy: 0.6140\n",
      "Epoch 61/100\n",
      "8/8 [==============================] - 0s 7ms/step - loss: 0.6726 - accuracy: 0.5820 - val_loss: 0.6677 - val_accuracy: 0.6240\n",
      "Epoch 62/100\n",
      "8/8 [==============================] - 0s 7ms/step - loss: 0.6708 - accuracy: 0.5800 - val_loss: 0.6660 - val_accuracy: 0.6260\n",
      "Epoch 63/100\n",
      "8/8 [==============================] - 0s 7ms/step - loss: 0.6690 - accuracy: 0.5880 - val_loss: 0.6643 - val_accuracy: 0.6340\n",
      "Epoch 64/100\n",
      "8/8 [==============================] - 0s 7ms/step - loss: 0.6673 - accuracy: 0.6000 - val_loss: 0.6626 - val_accuracy: 0.6440\n",
      "Epoch 65/100\n",
      "8/8 [==============================] - 0s 7ms/step - loss: 0.6656 - accuracy: 0.6040 - val_loss: 0.6609 - val_accuracy: 0.6500\n",
      "Epoch 66/100\n",
      "8/8 [==============================] - 0s 7ms/step - loss: 0.6638 - accuracy: 0.6200 - val_loss: 0.6592 - val_accuracy: 0.6540\n",
      "Epoch 67/100\n",
      "8/8 [==============================] - 0s 8ms/step - loss: 0.6621 - accuracy: 0.6180 - val_loss: 0.6575 - val_accuracy: 0.6680\n",
      "Epoch 68/100\n",
      "8/8 [==============================] - 0s 6ms/step - loss: 0.6604 - accuracy: 0.6220 - val_loss: 0.6558 - val_accuracy: 0.6740\n",
      "Epoch 69/100\n",
      "8/8 [==============================] - 0s 7ms/step - loss: 0.6587 - accuracy: 0.6220 - val_loss: 0.6541 - val_accuracy: 0.6760\n",
      "Epoch 70/100\n",
      "8/8 [==============================] - 0s 7ms/step - loss: 0.6569 - accuracy: 0.6280 - val_loss: 0.6525 - val_accuracy: 0.6880\n",
      "Epoch 71/100\n",
      "8/8 [==============================] - 0s 8ms/step - loss: 0.6552 - accuracy: 0.6340 - val_loss: 0.6508 - val_accuracy: 0.6880\n",
      "Epoch 72/100\n",
      "8/8 [==============================] - 0s 7ms/step - loss: 0.6536 - accuracy: 0.6380 - val_loss: 0.6491 - val_accuracy: 0.6960\n",
      "Epoch 73/100\n",
      "8/8 [==============================] - 0s 7ms/step - loss: 0.6519 - accuracy: 0.6420 - val_loss: 0.6475 - val_accuracy: 0.6960\n",
      "Epoch 74/100\n",
      "8/8 [==============================] - 0s 7ms/step - loss: 0.6502 - accuracy: 0.6480 - val_loss: 0.6458 - val_accuracy: 0.7040\n",
      "Epoch 75/100\n",
      "8/8 [==============================] - 0s 7ms/step - loss: 0.6485 - accuracy: 0.6520 - val_loss: 0.6442 - val_accuracy: 0.7100\n",
      "Epoch 76/100\n",
      "8/8 [==============================] - 0s 7ms/step - loss: 0.6469 - accuracy: 0.6580 - val_loss: 0.6426 - val_accuracy: 0.7180\n",
      "Epoch 77/100\n",
      "8/8 [==============================] - 0s 7ms/step - loss: 0.6452 - accuracy: 0.6600 - val_loss: 0.6409 - val_accuracy: 0.7240\n",
      "Epoch 78/100\n",
      "8/8 [==============================] - 0s 7ms/step - loss: 0.6435 - accuracy: 0.6660 - val_loss: 0.6393 - val_accuracy: 0.7320\n",
      "Epoch 79/100\n",
      "8/8 [==============================] - 0s 7ms/step - loss: 0.6419 - accuracy: 0.6700 - val_loss: 0.6377 - val_accuracy: 0.7320\n",
      "Epoch 80/100\n",
      "8/8 [==============================] - 0s 8ms/step - loss: 0.6402 - accuracy: 0.6740 - val_loss: 0.6361 - val_accuracy: 0.7400\n",
      "Epoch 81/100\n",
      "8/8 [==============================] - 0s 10ms/step - loss: 0.6386 - accuracy: 0.6760 - val_loss: 0.6345 - val_accuracy: 0.7560\n",
      "Epoch 82/100\n",
      "8/8 [==============================] - 0s 8ms/step - loss: 0.6370 - accuracy: 0.6800 - val_loss: 0.6329 - val_accuracy: 0.7620\n",
      "Epoch 83/100\n",
      "8/8 [==============================] - 0s 8ms/step - loss: 0.6354 - accuracy: 0.6800 - val_loss: 0.6313 - val_accuracy: 0.7660\n",
      "Epoch 84/100\n",
      "8/8 [==============================] - 0s 8ms/step - loss: 0.6337 - accuracy: 0.6800 - val_loss: 0.6297 - val_accuracy: 0.7720\n",
      "Epoch 85/100\n",
      "8/8 [==============================] - 0s 7ms/step - loss: 0.6321 - accuracy: 0.6840 - val_loss: 0.6282 - val_accuracy: 0.7740\n",
      "Epoch 86/100\n",
      "8/8 [==============================] - 0s 9ms/step - loss: 0.6305 - accuracy: 0.6920 - val_loss: 0.6266 - val_accuracy: 0.7760\n",
      "Epoch 87/100\n",
      "8/8 [==============================] - 0s 10ms/step - loss: 0.6289 - accuracy: 0.7020 - val_loss: 0.6250 - val_accuracy: 0.7760\n",
      "Epoch 88/100\n",
      "8/8 [==============================] - 0s 14ms/step - loss: 0.6274 - accuracy: 0.7060 - val_loss: 0.6235 - val_accuracy: 0.7780\n",
      "Epoch 89/100\n",
      "8/8 [==============================] - 0s 13ms/step - loss: 0.6258 - accuracy: 0.7120 - val_loss: 0.6219 - val_accuracy: 0.7780\n",
      "Epoch 90/100\n",
      "8/8 [==============================] - 0s 9ms/step - loss: 0.6242 - accuracy: 0.7160 - val_loss: 0.6204 - val_accuracy: 0.7800\n",
      "Epoch 91/100\n",
      "8/8 [==============================] - 0s 9ms/step - loss: 0.6226 - accuracy: 0.7200 - val_loss: 0.6188 - val_accuracy: 0.7840\n",
      "Epoch 92/100\n",
      "8/8 [==============================] - 0s 9ms/step - loss: 0.6211 - accuracy: 0.7260 - val_loss: 0.6173 - val_accuracy: 0.7880\n",
      "Epoch 93/100\n",
      "8/8 [==============================] - 0s 10ms/step - loss: 0.6195 - accuracy: 0.7360 - val_loss: 0.6158 - val_accuracy: 0.7920\n",
      "Epoch 94/100\n",
      "8/8 [==============================] - 0s 9ms/step - loss: 0.6180 - accuracy: 0.7420 - val_loss: 0.6143 - val_accuracy: 0.7920\n",
      "Epoch 95/100\n",
      "8/8 [==============================] - 0s 9ms/step - loss: 0.6164 - accuracy: 0.7440 - val_loss: 0.6128 - val_accuracy: 0.7940\n",
      "Epoch 96/100\n",
      "8/8 [==============================] - 0s 9ms/step - loss: 0.6149 - accuracy: 0.7480 - val_loss: 0.6112 - val_accuracy: 0.7960\n",
      "Epoch 97/100\n",
      "8/8 [==============================] - 0s 7ms/step - loss: 0.6134 - accuracy: 0.7520 - val_loss: 0.6097 - val_accuracy: 0.7960\n",
      "Epoch 98/100\n",
      "8/8 [==============================] - 0s 6ms/step - loss: 0.6118 - accuracy: 0.7560 - val_loss: 0.6082 - val_accuracy: 0.7960\n",
      "Epoch 99/100\n",
      "8/8 [==============================] - 0s 7ms/step - loss: 0.6103 - accuracy: 0.7620 - val_loss: 0.6068 - val_accuracy: 0.7980\n",
      "Epoch 100/100\n",
      "8/8 [==============================] - 0s 6ms/step - loss: 0.6088 - accuracy: 0.7620 - val_loss: 0.6053 - val_accuracy: 0.8000\n"
     ]
    }
   ],
   "source": [
    "history = model.fit(X, y, epochs=100, batch_size=64, validation_data=(X_test, y_test))"
   ]
  },
  {
   "cell_type": "code",
   "execution_count": 10,
   "metadata": {},
   "outputs": [
    {
     "name": "stdout",
     "output_type": "stream",
     "text": [
      "[array([[-0.81809497],\n",
      "       [ 0.01076893]], dtype=float32), array([0.01309625], dtype=float32)]\n"
     ]
    }
   ],
   "source": [
    "print(model.layers[0].get_weights())"
   ]
  },
  {
   "cell_type": "code",
   "execution_count": 11,
   "metadata": {},
   "outputs": [
    {
     "data": {
      "image/png": "[encoded data removed]",
      "text/plain": [
       "<Figure size 640x480 with 1 Axes>"
      ]
     },
     "metadata": {},
     "output_type": "display_data"
    }
   ],
   "source": [
    "plt.plot(history.history['loss'])\n",
    "plt.plot(history.history['accuracy'])\n",
    "plt.show()\n"
   ]
  }
 ],
 "metadata": {
  "kernelspec": {
   "display_name": "Python 3",
   "language": "python",
   "name": "python3"
  },
  "language_info": {
   "codemirror_mode": {
    "name": "ipython",
    "version": 3
   },
   "file_extension": ".py",
   "mimetype": "text/x-python",
   "name": "python",
   "nbconvert_exporter": "python",
   "pygments_lexer": "ipython3",
   "version": "3.9.13"
  }
 },
 "nbformat": 4,
 "nbformat_minor": 2
}
